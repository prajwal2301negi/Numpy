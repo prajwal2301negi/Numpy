{
 "cells": [
  {
   "cell_type": "code",
   "execution_count": 89,
   "id": "d2f3b4d6-42c7-40cd-a330-5e66e9f05e47",
   "metadata": {},
   "outputs": [],
   "source": [
    "import numpy as np"
   ]
  },
  {
   "cell_type": "code",
   "execution_count": 90,
   "id": "f3a8ece4-ef84-4895-9829-73d037108eb4",
   "metadata": {},
   "outputs": [],
   "source": [
    "randoms = np.random.rand(6,5)"
   ]
  },
  {
   "cell_type": "code",
   "execution_count": 91,
   "id": "34bbb038-bb21-4582-b288-d6dcb3f5b7db",
   "metadata": {},
   "outputs": [
    {
     "data": {
      "text/plain": [
       "array([[0.32192681, 0.96928969, 0.03672553, 0.54675518, 0.95974696],\n",
       "       [0.41073718, 0.72172563, 0.38544511, 0.18553664, 0.28157302],\n",
       "       [0.66414288, 0.29283756, 0.81225252, 0.41282262, 0.49056216],\n",
       "       [0.88779831, 0.29759764, 0.34830492, 0.885541  , 0.67848858],\n",
       "       [0.93800973, 0.73157676, 0.15335788, 0.43777891, 0.76518401],\n",
       "       [0.87860665, 0.33068585, 0.85769666, 0.95549668, 0.88880747]])"
      ]
     },
     "execution_count": 91,
     "metadata": {},
     "output_type": "execute_result"
    }
   ],
   "source": [
    "randoms"
   ]
  },
  {
   "cell_type": "code",
   "execution_count": 92,
   "id": "980fd878-3bb3-43ca-8b45-ef6b937625b7",
   "metadata": {},
   "outputs": [],
   "source": [
    "randoms = randoms[0]"
   ]
  },
  {
   "cell_type": "code",
   "execution_count": 93,
   "id": "8363c105-350d-46cd-a2d8-a05737636e6d",
   "metadata": {},
   "outputs": [
    {
     "data": {
      "text/plain": [
       "array([0.32192681, 0.96928969, 0.03672553, 0.54675518, 0.95974696])"
      ]
     },
     "execution_count": 93,
     "metadata": {},
     "output_type": "execute_result"
    }
   ],
   "source": [
    "randoms"
   ]
  },
  {
   "cell_type": "code",
   "execution_count": 94,
   "id": "b1cef333-db7a-4960-9893-3521ad00e4da",
   "metadata": {},
   "outputs": [
    {
     "data": {
      "text/plain": [
       "array([], dtype=float64)"
      ]
     },
     "execution_count": 94,
     "metadata": {},
     "output_type": "execute_result"
    }
   ],
   "source": [
    "randoms[:2][4:]"
   ]
  },
  {
   "cell_type": "code",
   "execution_count": 95,
   "id": "1c72f884-3c47-4e71-9175-539c59366ef9",
   "metadata": {},
   "outputs": [
    {
     "ename": "IndexError",
     "evalue": "too many indices for array: array is 1-dimensional, but 2 were indexed",
     "output_type": "error",
     "traceback": [
      "\u001b[1;31m---------------------------------------------------------------------------\u001b[0m",
      "\u001b[1;31mIndexError\u001b[0m                                Traceback (most recent call last)",
      "Cell \u001b[1;32mIn[95], line 1\u001b[0m\n\u001b[1;32m----> 1\u001b[0m \u001b[43mrandoms\u001b[49m\u001b[43m[\u001b[49m\u001b[38;5;241;43m2\u001b[39;49m\u001b[43m:\u001b[49m\u001b[43m,\u001b[49m\u001b[43m:\u001b[49m\u001b[38;5;241;43m4\u001b[39;49m\u001b[43m]\u001b[49m\n",
      "\u001b[1;31mIndexError\u001b[0m: too many indices for array: array is 1-dimensional, but 2 were indexed"
     ]
    }
   ],
   "source": [
    "randoms[2:,:4]"
   ]
  },
  {
   "cell_type": "code",
   "execution_count": 96,
   "id": "b8399791-a57f-4811-9c64-622e62cbbf16",
   "metadata": {},
   "outputs": [
    {
     "ename": "IndexError",
     "evalue": "too many indices for array: array is 1-dimensional, but 2 were indexed",
     "output_type": "error",
     "traceback": [
      "\u001b[1;31m---------------------------------------------------------------------------\u001b[0m",
      "\u001b[1;31mIndexError\u001b[0m                                Traceback (most recent call last)",
      "Cell \u001b[1;32mIn[96], line 1\u001b[0m\n\u001b[1;32m----> 1\u001b[0m \u001b[43mrandoms\u001b[49m\u001b[43m[\u001b[49m\u001b[43m:\u001b[49m\u001b[38;5;241;43m2\u001b[39;49m\u001b[43m,\u001b[49m\u001b[38;5;241;43m4\u001b[39;49m\u001b[43m:\u001b[49m\u001b[43m]\u001b[49m\n",
      "\u001b[1;31mIndexError\u001b[0m: too many indices for array: array is 1-dimensional, but 2 were indexed"
     ]
    }
   ],
   "source": [
    "randoms[:2,4:]"
   ]
  },
  {
   "cell_type": "code",
   "execution_count": 97,
   "id": "76ceeaf6-5d51-4cc4-8a77-9ac7e060eba5",
   "metadata": {},
   "outputs": [
    {
     "data": {
      "text/plain": [
       "array([0.03672553, 0.54675518, 0.95974696])"
      ]
     },
     "execution_count": 97,
     "metadata": {},
     "output_type": "execute_result"
    }
   ],
   "source": [
    "randoms[2:]"
   ]
  },
  {
   "cell_type": "code",
   "execution_count": 98,
   "id": "a5f23a40-0090-4999-b615-2247ae5f699e",
   "metadata": {},
   "outputs": [
    {
     "data": {
      "text/plain": [
       "array([0.32192681, 0.96928969])"
      ]
     },
     "execution_count": 98,
     "metadata": {},
     "output_type": "execute_result"
    }
   ],
   "source": [
    "randoms[:2]"
   ]
  },
  {
   "cell_type": "code",
   "execution_count": 99,
   "id": "928110c5-0017-4867-a087-9a43fdaf1ea2",
   "metadata": {},
   "outputs": [],
   "source": [
    "X = np.array([[1,2],[3,4]])\n",
    "Y = np.array([[5,6],[7,8]])"
   ]
  },
  {
   "cell_type": "code",
   "execution_count": 100,
   "id": "219f76e4-5763-4e4c-b952-d12f655898fd",
   "metadata": {},
   "outputs": [
    {
     "data": {
      "text/plain": [
       "(2, 2)"
      ]
     },
     "execution_count": 100,
     "metadata": {},
     "output_type": "execute_result"
    }
   ],
   "source": [
    "X.shape"
   ]
  },
  {
   "cell_type": "code",
   "execution_count": 102,
   "id": "307aa48f-a96c-452b-be16-9731f35674a8",
   "metadata": {},
   "outputs": [
    {
     "data": {
      "text/plain": [
       "(2, 2)"
      ]
     },
     "execution_count": 102,
     "metadata": {},
     "output_type": "execute_result"
    }
   ],
   "source": [
    "Y.shape"
   ]
  },
  {
   "cell_type": "code",
   "execution_count": 103,
   "id": "bb6cd95c-cff3-430b-bb51-e8ccedc7bd29",
   "metadata": {},
   "outputs": [
    {
     "data": {
      "text/plain": [
       "array([[ 6,  8],\n",
       "       [10, 12]])"
      ]
     },
     "execution_count": 103,
     "metadata": {},
     "output_type": "execute_result"
    }
   ],
   "source": [
    "X+Y"
   ]
  },
  {
   "cell_type": "code",
   "execution_count": 104,
   "id": "9a1fb612-ffbc-4b30-8cce-82b41360009d",
   "metadata": {},
   "outputs": [
    {
     "data": {
      "text/plain": [
       "array([[ 6,  8],\n",
       "       [10, 12]])"
      ]
     },
     "execution_count": 104,
     "metadata": {},
     "output_type": "execute_result"
    }
   ],
   "source": [
    "np.add(X,Y)"
   ]
  },
  {
   "cell_type": "code",
   "execution_count": 105,
   "id": "ac5d4ade-e030-43a9-ae3d-7bc1fb5bdde2",
   "metadata": {},
   "outputs": [
    {
     "data": {
      "text/plain": [
       "array([[-4, -4],\n",
       "       [-4, -4]])"
      ]
     },
     "execution_count": 105,
     "metadata": {},
     "output_type": "execute_result"
    }
   ],
   "source": [
    "np.subtract(X,Y)"
   ]
  },
  {
   "cell_type": "code",
   "execution_count": 106,
   "id": "55afd283-66fa-4140-bd28-a60c6d0ffbce",
   "metadata": {},
   "outputs": [
    {
     "data": {
      "text/plain": [
       "array([[ 5, 12],\n",
       "       [21, 32]])"
      ]
     },
     "execution_count": 106,
     "metadata": {},
     "output_type": "execute_result"
    }
   ],
   "source": [
    "np.multiply(X,Y)"
   ]
  },
  {
   "cell_type": "code",
   "execution_count": 107,
   "id": "d2e9bc06-eb3c-494e-a8ac-f41a8ff8d79c",
   "metadata": {},
   "outputs": [
    {
     "data": {
      "text/plain": [
       "array([[ 5, 12],\n",
       "       [21, 32]])"
      ]
     },
     "execution_count": 107,
     "metadata": {},
     "output_type": "execute_result"
    }
   ],
   "source": [
    "X*Y"
   ]
  },
  {
   "cell_type": "code",
   "execution_count": 110,
   "id": "3177b594-dd54-49f3-9367-3f05c0fd70a4",
   "metadata": {},
   "outputs": [
    {
     "data": {
      "text/plain": [
       "array([[19, 22],\n",
       "       [43, 50]])"
      ]
     },
     "execution_count": 110,
     "metadata": {},
     "output_type": "execute_result"
    }
   ],
   "source": [
    "# For Matrix Multiplication\n",
    "np.matmul(X,Y)"
   ]
  },
  {
   "cell_type": "code",
   "execution_count": 111,
   "id": "741689eb-286b-48dd-a507-ea218dd2ea2f",
   "metadata": {},
   "outputs": [
    {
     "data": {
      "text/plain": [
       "array([[19, 22],\n",
       "       [43, 50]])"
      ]
     },
     "execution_count": 111,
     "metadata": {},
     "output_type": "execute_result"
    }
   ],
   "source": [
    "X@Y"
   ]
  },
  {
   "cell_type": "code",
   "execution_count": 113,
   "id": "fb63482d-dc4d-43fa-95af-55281823f5bf",
   "metadata": {},
   "outputs": [],
   "source": [
    "#'?' will tell what the particular function do"
   ]
  },
  {
   "cell_type": "code",
   "execution_count": 114,
   "id": "0f683470-30a7-4b26-9b65-5d56f5791c6d",
   "metadata": {},
   "outputs": [],
   "source": [
    "a= []\n",
    "for i in range(100):\n",
    "    a.append(i)"
   ]
  },
  {
   "cell_type": "code",
   "execution_count": 116,
   "id": "3013b524-3dd1-42d5-9f4a-2232ea284cfe",
   "metadata": {},
   "outputs": [],
   "source": [
    "a = np.array(a)"
   ]
  },
  {
   "cell_type": "code",
   "execution_count": 117,
   "id": "2fb25bd5-42fe-4aae-894a-3d6a41d79c88",
   "metadata": {},
   "outputs": [
    {
     "data": {
      "text/plain": [
       "numpy.ndarray"
      ]
     },
     "execution_count": 117,
     "metadata": {},
     "output_type": "execute_result"
    }
   ],
   "source": [
    "type(a)"
   ]
  },
  {
   "cell_type": "code",
   "execution_count": 118,
   "id": "57168aa3-c61f-42f8-8100-5aa84bcc353d",
   "metadata": {},
   "outputs": [],
   "source": [
    "# Matrix->\n",
    "b= [[1,2,3,4,5],[6,7,8,9,0]]"
   ]
  },
  {
   "cell_type": "code",
   "execution_count": 119,
   "id": "4510194f-c073-4a86-9e89-f81638a522eb",
   "metadata": {},
   "outputs": [
    {
     "data": {
      "text/plain": [
       "[[1, 2, 3, 4, 5], [6, 7, 8, 9, 0]]"
      ]
     },
     "execution_count": 119,
     "metadata": {},
     "output_type": "execute_result"
    }
   ],
   "source": [
    "b"
   ]
  },
  {
   "cell_type": "code",
   "execution_count": 120,
   "id": "15d34b93-76cf-45c4-9ede-be1e38762590",
   "metadata": {},
   "outputs": [
    {
     "data": {
      "text/plain": [
       "list"
      ]
     },
     "execution_count": 120,
     "metadata": {},
     "output_type": "execute_result"
    }
   ],
   "source": [
    "c=[]\n",
    "type(c)"
   ]
  },
  {
   "cell_type": "code",
   "execution_count": 122,
   "id": "d7510b32-1a55-4440-9439-93e55a572223",
   "metadata": {},
   "outputs": [
    {
     "data": {
      "text/plain": [
       "array([[0.2       , 0.33333333],\n",
       "       [0.42857143, 0.5       ]])"
      ]
     },
     "execution_count": 122,
     "metadata": {},
     "output_type": "execute_result"
    }
   ],
   "source": [
    "np.divide(X,Y)"
   ]
  },
  {
   "cell_type": "code",
   "execution_count": 123,
   "id": "734346c3-34bb-402d-9f87-24f06ea0a17b",
   "metadata": {},
   "outputs": [
    {
     "data": {
      "text/plain": [
       "array([[0.2       , 0.33333333],\n",
       "       [0.42857143, 0.5       ]])"
      ]
     },
     "execution_count": 123,
     "metadata": {},
     "output_type": "execute_result"
    }
   ],
   "source": [
    "X/Y"
   ]
  },
  {
   "cell_type": "code",
   "execution_count": 124,
   "id": "92a44762-46eb-406c-8011-56294d85e7f6",
   "metadata": {},
   "outputs": [
    {
     "data": {
      "text/plain": [
       "array([[1.        , 1.41421356],\n",
       "       [1.73205081, 2.        ]])"
      ]
     },
     "execution_count": 124,
     "metadata": {},
     "output_type": "execute_result"
    }
   ],
   "source": [
    "np.sqrt(X)"
   ]
  },
  {
   "cell_type": "code",
   "execution_count": 126,
   "id": "5b9a6027-7450-4918-9a52-1bbc7b409899",
   "metadata": {},
   "outputs": [
    {
     "data": {
      "text/plain": [
       "\u001b[1;31mSignature:\u001b[0m       \u001b[0mnp\u001b[0m\u001b[1;33m.\u001b[0m\u001b[0madd\u001b[0m\u001b[1;33m(\u001b[0m\u001b[1;33m*\u001b[0m\u001b[0margs\u001b[0m\u001b[1;33m,\u001b[0m \u001b[1;33m**\u001b[0m\u001b[0mkwargs\u001b[0m\u001b[1;33m)\u001b[0m\u001b[1;33m\u001b[0m\u001b[1;33m\u001b[0m\u001b[0m\n",
       "\u001b[1;31mType:\u001b[0m            ufunc\n",
       "\u001b[1;31mString form:\u001b[0m     <ufunc 'add'>\n",
       "\u001b[1;31mFile:\u001b[0m            c:\\users\\prajwal\\appdata\\local\\programs\\python\\python312\\lib\\site-packages\\numpy\\__init__.py\n",
       "\u001b[1;31mDocstring:\u001b[0m      \n",
       "add(x1, x2, /, out=None, *, where=True, casting='same_kind', order='K', dtype=None, subok=True[, signature])\n",
       "\n",
       "Add arguments element-wise.\n",
       "\n",
       "Parameters\n",
       "----------\n",
       "x1, x2 : array_like\n",
       "    The arrays to be added.\n",
       "    If ``x1.shape != x2.shape``, they must be broadcastable to a common\n",
       "    shape (which becomes the shape of the output).\n",
       "out : ndarray, None, or tuple of ndarray and None, optional\n",
       "    A location into which the result is stored. If provided, it must have\n",
       "    a shape that the inputs broadcast to. If not provided or None,\n",
       "    a freshly-allocated array is returned. A tuple (possible only as a\n",
       "    keyword argument) must have length equal to the number of outputs.\n",
       "where : array_like, optional\n",
       "    This condition is broadcast over the input. At locations where the\n",
       "    condition is True, the `out` array will be set to the ufunc result.\n",
       "    Elsewhere, the `out` array will retain its original value.\n",
       "    Note that if an uninitialized `out` array is created via the default\n",
       "    ``out=None``, locations within it where the condition is False will\n",
       "    remain uninitialized.\n",
       "**kwargs\n",
       "    For other keyword-only arguments, see the\n",
       "    :ref:`ufunc docs <ufuncs.kwargs>`.\n",
       "\n",
       "Returns\n",
       "-------\n",
       "add : ndarray or scalar\n",
       "    The sum of `x1` and `x2`, element-wise.\n",
       "    This is a scalar if both `x1` and `x2` are scalars.\n",
       "\n",
       "Notes\n",
       "-----\n",
       "Equivalent to `x1` + `x2` in terms of array broadcasting.\n",
       "\n",
       "Examples\n",
       "--------\n",
       ">>> np.add(1.0, 4.0)\n",
       "5.0\n",
       ">>> x1 = np.arange(9.0).reshape((3, 3))\n",
       ">>> x2 = np.arange(3.0)\n",
       ">>> np.add(x1, x2)\n",
       "array([[  0.,   2.,   4.],\n",
       "       [  3.,   5.,   7.],\n",
       "       [  6.,   8.,  10.]])\n",
       "\n",
       "The ``+`` operator can be used as a shorthand for ``np.add`` on ndarrays.\n",
       "\n",
       ">>> x1 = np.arange(9.0).reshape((3, 3))\n",
       ">>> x2 = np.arange(3.0)\n",
       ">>> x1 + x2\n",
       "array([[ 0.,  2.,  4.],\n",
       "       [ 3.,  5.,  7.],\n",
       "       [ 6.,  8., 10.]])\n",
       "\u001b[1;31mClass docstring:\u001b[0m\n",
       "Functions that operate element by element on whole arrays.\n",
       "\n",
       "To see the documentation for a specific ufunc, use `info`.  For\n",
       "example, ``np.info(np.sin)``.  Because ufuncs are written in C\n",
       "(for speed) and linked into Python with NumPy's ufunc facility,\n",
       "Python's help() function finds this page whenever help() is called\n",
       "on a ufunc.\n",
       "\n",
       "A detailed explanation of ufuncs can be found in the docs for :ref:`ufuncs`.\n",
       "\n",
       "**Calling ufuncs:** ``op(*x[, out], where=True, **kwargs)``\n",
       "\n",
       "Apply `op` to the arguments `*x` elementwise, broadcasting the arguments.\n",
       "\n",
       "The broadcasting rules are:\n",
       "\n",
       "* Dimensions of length 1 may be prepended to either array.\n",
       "* Arrays may be repeated along dimensions of length 1.\n",
       "\n",
       "Parameters\n",
       "----------\n",
       "*x : array_like\n",
       "    Input arrays.\n",
       "out : ndarray, None, or tuple of ndarray and None, optional\n",
       "    Alternate array object(s) in which to put the result; if provided, it\n",
       "    must have a shape that the inputs broadcast to. A tuple of arrays\n",
       "    (possible only as a keyword argument) must have length equal to the\n",
       "    number of outputs; use None for uninitialized outputs to be\n",
       "    allocated by the ufunc.\n",
       "where : array_like, optional\n",
       "    This condition is broadcast over the input. At locations where the\n",
       "    condition is True, the `out` array will be set to the ufunc result.\n",
       "    Elsewhere, the `out` array will retain its original value.\n",
       "    Note that if an uninitialized `out` array is created via the default\n",
       "    ``out=None``, locations within it where the condition is False will\n",
       "    remain uninitialized.\n",
       "**kwargs\n",
       "    For other keyword-only arguments, see the :ref:`ufunc docs <ufuncs.kwargs>`.\n",
       "\n",
       "Returns\n",
       "-------\n",
       "r : ndarray or tuple of ndarray\n",
       "    `r` will have the shape that the arrays in `x` broadcast to; if `out` is\n",
       "    provided, it will be returned. If not, `r` will be allocated and\n",
       "    may contain uninitialized values. If the function has more than one\n",
       "    output, then the result will be a tuple of arrays."
      ]
     },
     "metadata": {},
     "output_type": "display_data"
    }
   ],
   "source": [
    "np.add?"
   ]
  },
  {
   "cell_type": "code",
   "execution_count": 128,
   "id": "a9cb5623-d2e3-4b57-9710-4d1cbc304380",
   "metadata": {},
   "outputs": [
    {
     "data": {
      "text/plain": [
       "array([[19, 22],\n",
       "       [43, 50]])"
      ]
     },
     "execution_count": 128,
     "metadata": {},
     "output_type": "execute_result"
    }
   ],
   "source": [
    "np.dot(X,Y)\n",
    "# will be like matrix multiplication"
   ]
  },
  {
   "cell_type": "code",
   "execution_count": 141,
   "id": "67c6dd1a-98ed-461a-be3f-014ba3a24162",
   "metadata": {},
   "outputs": [],
   "source": [
    "# Dot Product work as same as matrix multiplication"
   ]
  },
  {
   "cell_type": "code",
   "execution_count": 129,
   "id": "7c629dca-bf1b-40b2-b285-e5335c9eb6f9",
   "metadata": {},
   "outputs": [
    {
     "data": {
      "text/plain": [
       "array([[19, 22],\n",
       "       [43, 50]])"
      ]
     },
     "execution_count": 129,
     "metadata": {},
     "output_type": "execute_result"
    }
   ],
   "source": [
    "X.dot(Y)"
   ]
  },
  {
   "cell_type": "code",
   "execution_count": 136,
   "id": "5e2a4980-7787-401e-8bc9-f9ad97f54497",
   "metadata": {},
   "outputs": [],
   "source": [
    "# Flatten give copy of list whereas ravel generate new list "
   ]
  },
  {
   "cell_type": "code",
   "execution_count": 131,
   "id": "4b80a140-f2a8-46ea-a3a8-e999f903cec6",
   "metadata": {},
   "outputs": [],
   "source": [
    "arr = np.array([[1,2,3],[4,5,6]])"
   ]
  },
  {
   "cell_type": "code",
   "execution_count": 137,
   "id": "46b3dd48-62f9-4132-a0e9-122ff51ad8e8",
   "metadata": {},
   "outputs": [],
   "source": [
    "flattened = arr.flatten()         # creates and return a copy of memory"
   ]
  },
  {
   "cell_type": "code",
   "execution_count": 133,
   "id": "96ac403b-664d-4f30-858f-d8301be852d2",
   "metadata": {},
   "outputs": [
    {
     "data": {
      "text/plain": [
       "array([1, 2, 3, 4, 5, 6])"
      ]
     },
     "execution_count": 133,
     "metadata": {},
     "output_type": "execute_result"
    }
   ],
   "source": [
    "flattened"
   ]
  },
  {
   "cell_type": "code",
   "execution_count": 138,
   "id": "504e8295-c118-44ab-96ae-290e3a1e11fa",
   "metadata": {},
   "outputs": [],
   "source": [
    "ravelled = arr.ravel()           # changes affect the original array"
   ]
  },
  {
   "cell_type": "code",
   "execution_count": 135,
   "id": "ece9e5ab-a9c4-4ad2-a30e-6059477b7c55",
   "metadata": {},
   "outputs": [
    {
     "data": {
      "text/plain": [
       "array([1, 2, 3, 4, 5, 6])"
      ]
     },
     "execution_count": 135,
     "metadata": {},
     "output_type": "execute_result"
    }
   ],
   "source": [
    "ravelled"
   ]
  },
  {
   "cell_type": "code",
   "execution_count": 139,
   "id": "03ee5b60-5747-4280-8cad-8d440995b530",
   "metadata": {},
   "outputs": [],
   "source": [
    "# Ravel is faster than flatten"
   ]
  },
  {
   "cell_type": "code",
   "execution_count": 140,
   "id": "9f7f235d-df96-4d6f-b792-a44f9828adf7",
   "metadata": {},
   "outputs": [],
   "source": [
    "# If arr is store in #100 memory, so ravel will store in #100 memory where as flatten will store in #105 memory"
   ]
  },
  {
   "cell_type": "code",
   "execution_count": 143,
   "id": "46beb233-180a-4627-a914-1d94ba52af36",
   "metadata": {},
   "outputs": [],
   "source": [
    "# stack\n",
    "# randint\n",
    "# ones, zeroes\n",
    "# min, max, mean\n",
    "# average\n",
    "# std"
   ]
  },
  {
   "cell_type": "code",
   "execution_count": null,
   "id": "4f8226bd-e71e-4fa7-b6bc-cab775bdbbd5",
   "metadata": {},
   "outputs": [],
   "source": []
  },
  {
   "cell_type": "code",
   "execution_count": 144,
   "id": "72cfa957-84e9-4828-9ffc-aadbcab08938",
   "metadata": {},
   "outputs": [],
   "source": [
    "a = np.array([1,2,3,4,5])\n",
    "b = np.array([1,2,3,4,5])"
   ]
  },
  {
   "cell_type": "code",
   "execution_count": 147,
   "id": "5e3590b8-aa28-40d2-ac6f-cb51ff9978aa",
   "metadata": {},
   "outputs": [],
   "source": [
    "b= b**2  # All values inside b will be squared"
   ]
  },
  {
   "cell_type": "code",
   "execution_count": 146,
   "id": "f0969ab0-47f6-442e-b717-6086a202508a",
   "metadata": {},
   "outputs": [
    {
     "data": {
      "text/plain": [
       "array([ 1,  4,  9, 16, 25])"
      ]
     },
     "execution_count": 146,
     "metadata": {},
     "output_type": "execute_result"
    }
   ],
   "source": [
    "b"
   ]
  },
  {
   "cell_type": "code",
   "execution_count": 162,
   "id": "2368983d-d5f9-4952-8e94-3779edaa1725",
   "metadata": {},
   "outputs": [],
   "source": [
    "# STACK\n",
    "#Pasting 1 array over the other -> Stack"
   ]
  },
  {
   "cell_type": "code",
   "execution_count": 152,
   "id": "ab0ef866-8376-4d3d-8f04-8f246363a5b9",
   "metadata": {},
   "outputs": [
    {
     "data": {
      "text/plain": [
       "(array([[  1,   2,   3,   4,   5],\n",
       "        [  1,  16,  81, 256, 625]]),\n",
       " (2, 5))"
      ]
     },
     "execution_count": 152,
     "metadata": {},
     "output_type": "execute_result"
    }
   ],
   "source": [
    "np.stack((a,b), axis = 0), np.stack((a,b), axis = 0).shape  # Will align as row"
   ]
  },
  {
   "cell_type": "code",
   "execution_count": 153,
   "id": "baf73868-af59-44fb-afb0-829d3323b47c",
   "metadata": {},
   "outputs": [
    {
     "data": {
      "text/plain": [
       "(array([[  1,   1],\n",
       "        [  2,  16],\n",
       "        [  3,  81],\n",
       "        [  4, 256],\n",
       "        [  5, 625]]),\n",
       " (5, 2))"
      ]
     },
     "execution_count": 153,
     "metadata": {},
     "output_type": "execute_result"
    }
   ],
   "source": [
    "np.stack((a,b), axis = 1), np.stack((a,b), axis = 1).shape    # Will align as column"
   ]
  },
  {
   "cell_type": "code",
   "execution_count": 157,
   "id": "60ab0f45-bf58-4321-afb9-0401c27b57a9",
   "metadata": {},
   "outputs": [],
   "source": [
    "# Now"
   ]
  },
  {
   "cell_type": "code",
   "execution_count": 154,
   "id": "cab1c38e-0020-45bf-8cb3-fbaeda6bef21",
   "metadata": {},
   "outputs": [],
   "source": [
    "a = np.stack((a,b), axis = 0)"
   ]
  },
  {
   "cell_type": "code",
   "execution_count": 155,
   "id": "b8a5fe34-21d7-45fd-a2f9-504f2d139ea2",
   "metadata": {},
   "outputs": [
    {
     "data": {
      "text/plain": [
       "array([[  1,   2,   3,   4,   5],\n",
       "       [  1,  16,  81, 256, 625]])"
      ]
     },
     "execution_count": 155,
     "metadata": {},
     "output_type": "execute_result"
    }
   ],
   "source": [
    "a"
   ]
  },
  {
   "cell_type": "code",
   "execution_count": 156,
   "id": "bf6ece0d-0e74-487e-b745-aa0c3e2d391e",
   "metadata": {},
   "outputs": [
    {
     "data": {
      "text/plain": [
       "(2, 5)"
      ]
     },
     "execution_count": 156,
     "metadata": {},
     "output_type": "execute_result"
    }
   ],
   "source": [
    "a.shape"
   ]
  },
  {
   "cell_type": "code",
   "execution_count": 158,
   "id": "fe4a8d75-1efa-420b-8b91-42e235b8f12b",
   "metadata": {},
   "outputs": [
    {
     "data": {
      "text/plain": [
       "array([[  1,   2,   3,   4,   5,   1,  16,  81, 256, 625]])"
      ]
     },
     "execution_count": 158,
     "metadata": {},
     "output_type": "execute_result"
    }
   ],
   "source": [
    "a.reshape(1,10)  # Will reshape in (2*5) = 10 (in multiples of 10)"
   ]
  },
  {
   "cell_type": "code",
   "execution_count": 159,
   "id": "ddbc8ce2-2ea4-4461-9f62-c21de2d31877",
   "metadata": {},
   "outputs": [
    {
     "data": {
      "text/plain": [
       "array([[  1],\n",
       "       [  2],\n",
       "       [  3],\n",
       "       [  4],\n",
       "       [  5],\n",
       "       [  1],\n",
       "       [ 16],\n",
       "       [ 81],\n",
       "       [256],\n",
       "       [625]])"
      ]
     },
     "execution_count": 159,
     "metadata": {},
     "output_type": "execute_result"
    }
   ],
   "source": [
    "a.reshape(10,1)"
   ]
  },
  {
   "cell_type": "code",
   "execution_count": 160,
   "id": "a82c7802-0489-40fb-b500-0f8ab026d382",
   "metadata": {},
   "outputs": [
    {
     "data": {
      "text/plain": [
       "array([[  1,   2],\n",
       "       [  3,   4],\n",
       "       [  5,   1],\n",
       "       [ 16,  81],\n",
       "       [256, 625]])"
      ]
     },
     "execution_count": 160,
     "metadata": {},
     "output_type": "execute_result"
    }
   ],
   "source": [
    "a.reshape(5,2)"
   ]
  },
  {
   "cell_type": "code",
   "execution_count": 163,
   "id": "59b85e40-403b-4dbc-a181-71aef19a5dcb",
   "metadata": {},
   "outputs": [],
   "source": [
    "# RANDINT"
   ]
  },
  {
   "cell_type": "code",
   "execution_count": 184,
   "id": "46eb9b44-c738-468e-9f97-513ee28340b0",
   "metadata": {},
   "outputs": [
    {
     "data": {
      "text/plain": [
       "0.7848892181321379"
      ]
     },
     "execution_count": 184,
     "metadata": {},
     "output_type": "execute_result"
    }
   ],
   "source": [
    "a = np.random.rand()\n",
    "a \n",
    "# Will generate a Random Number"
   ]
  },
  {
   "cell_type": "code",
   "execution_count": 183,
   "id": "18ce5ffb-ba44-4d80-9632-278d97b91551",
   "metadata": {},
   "outputs": [
    {
     "data": {
      "text/plain": [
       "array([0.99416579])"
      ]
     },
     "execution_count": 183,
     "metadata": {},
     "output_type": "execute_result"
    }
   ],
   "source": [
    "b = np.random.rand(1)\n",
    "b\n",
    "# Will Generate a random number in array"
   ]
  },
  {
   "cell_type": "code",
   "execution_count": 185,
   "id": "3d2adfd5-2a4b-4bb3-92ca-6107220a9ab3",
   "metadata": {},
   "outputs": [
    {
     "data": {
      "text/plain": [
       "\u001b[1;31mSignature:\u001b[0m \u001b[0mnp\u001b[0m\u001b[1;33m.\u001b[0m\u001b[0mrandom\u001b[0m\u001b[1;33m.\u001b[0m\u001b[0mrandint\u001b[0m\u001b[1;33m(\u001b[0m\u001b[0mlow\u001b[0m\u001b[1;33m,\u001b[0m \u001b[0mhigh\u001b[0m\u001b[1;33m=\u001b[0m\u001b[1;32mNone\u001b[0m\u001b[1;33m,\u001b[0m \u001b[0msize\u001b[0m\u001b[1;33m=\u001b[0m\u001b[1;32mNone\u001b[0m\u001b[1;33m,\u001b[0m \u001b[0mdtype\u001b[0m\u001b[1;33m=\u001b[0m\u001b[1;33m<\u001b[0m\u001b[1;32mclass\u001b[0m \u001b[1;34m'int'\u001b[0m\u001b[1;33m>\u001b[0m\u001b[1;33m)\u001b[0m\u001b[1;33m\u001b[0m\u001b[1;33m\u001b[0m\u001b[0m\n",
       "\u001b[1;31mDocstring:\u001b[0m\n",
       "randint(low, high=None, size=None, dtype=int)\n",
       "\n",
       "Return random integers from `low` (inclusive) to `high` (exclusive).\n",
       "\n",
       "Return random integers from the \"discrete uniform\" distribution of\n",
       "the specified dtype in the \"half-open\" interval [`low`, `high`). If\n",
       "`high` is None (the default), then results are from [0, `low`).\n",
       "\n",
       ".. note::\n",
       "    New code should use the `~numpy.random.Generator.integers`\n",
       "    method of a `~numpy.random.Generator` instance instead;\n",
       "    please see the :ref:`random-quick-start`.\n",
       "\n",
       "Parameters\n",
       "----------\n",
       "low : int or array-like of ints\n",
       "    Lowest (signed) integers to be drawn from the distribution (unless\n",
       "    ``high=None``, in which case this parameter is one above the\n",
       "    *highest* such integer).\n",
       "high : int or array-like of ints, optional\n",
       "    If provided, one above the largest (signed) integer to be drawn\n",
       "    from the distribution (see above for behavior if ``high=None``).\n",
       "    If array-like, must contain integer values\n",
       "size : int or tuple of ints, optional\n",
       "    Output shape.  If the given shape is, e.g., ``(m, n, k)``, then\n",
       "    ``m * n * k`` samples are drawn.  Default is None, in which case a\n",
       "    single value is returned.\n",
       "dtype : dtype, optional\n",
       "    Desired dtype of the result. Byteorder must be native.\n",
       "    The default value is long.\n",
       "\n",
       "    .. versionadded:: 1.11.0\n",
       "\n",
       "    .. warning::\n",
       "      This function defaults to the C-long dtype, which is 32bit on windows\n",
       "      and otherwise 64bit on 64bit platforms (and 32bit on 32bit ones).\n",
       "      Since NumPy 2.0, NumPy's default integer is 32bit on 32bit platforms\n",
       "      and 64bit on 64bit platforms.  Which corresponds to `np.intp`.\n",
       "      (`dtype=int` is not the same as in most NumPy functions.)\n",
       "\n",
       "Returns\n",
       "-------\n",
       "out : int or ndarray of ints\n",
       "    `size`-shaped array of random integers from the appropriate\n",
       "    distribution, or a single such random int if `size` not provided.\n",
       "\n",
       "See Also\n",
       "--------\n",
       "random_integers : similar to `randint`, only for the closed\n",
       "    interval [`low`, `high`], and 1 is the lowest value if `high` is\n",
       "    omitted.\n",
       "random.Generator.integers: which should be used for new code.\n",
       "\n",
       "Examples\n",
       "--------\n",
       ">>> np.random.randint(2, size=10)\n",
       "array([1, 0, 0, 0, 1, 1, 0, 0, 1, 0]) # random\n",
       ">>> np.random.randint(1, size=10)\n",
       "array([0, 0, 0, 0, 0, 0, 0, 0, 0, 0])\n",
       "\n",
       "Generate a 2 x 4 array of ints between 0 and 4, inclusive:\n",
       "\n",
       ">>> np.random.randint(5, size=(2, 4))\n",
       "array([[4, 0, 2, 1], # random\n",
       "       [3, 2, 2, 0]])\n",
       "\n",
       "Generate a 1 x 3 array with 3 different upper bounds\n",
       "\n",
       ">>> np.random.randint(1, [3, 5, 10])\n",
       "array([2, 2, 9]) # random\n",
       "\n",
       "Generate a 1 by 3 array with 3 different lower bounds\n",
       "\n",
       ">>> np.random.randint([1, 5, 7], 10)\n",
       "array([9, 8, 7]) # random\n",
       "\n",
       "Generate a 2 by 4 array using broadcasting with dtype of uint8\n",
       "\n",
       ">>> np.random.randint([1, 3, 5, 7], [[10], [20]], dtype=np.uint8)\n",
       "array([[ 8,  6,  9,  7], # random\n",
       "       [ 1, 16,  9, 12]], dtype=uint8)\n",
       "\u001b[1;31mType:\u001b[0m      method"
      ]
     },
     "metadata": {},
     "output_type": "display_data"
    }
   ],
   "source": [
    "x = np.random.randint?"
   ]
  },
  {
   "cell_type": "code",
   "execution_count": 190,
   "id": "b4f2f299-d88e-4924-a1ed-849b140adc5f",
   "metadata": {},
   "outputs": [],
   "source": [
    "x = np.random.randint(10,20,3) # Between 10 and 20 and the number of elements is 3, Gives a Random Integer where 20 is upper, 10 is the lower limit"
   ]
  },
  {
   "cell_type": "code",
   "execution_count": 191,
   "id": "fbe7f365-2123-4f13-a4c8-c27f5df3251e",
   "metadata": {},
   "outputs": [
    {
     "data": {
      "text/plain": [
       "array([14, 15, 18], dtype=int32)"
      ]
     },
     "execution_count": 191,
     "metadata": {},
     "output_type": "execute_result"
    }
   ],
   "source": [
    "x"
   ]
  },
  {
   "cell_type": "code",
   "execution_count": 192,
   "id": "c2eb39ac-c863-47d0-9acf-1417a8388354",
   "metadata": {},
   "outputs": [],
   "source": [
    "y = np.random.randint(10,20,10)"
   ]
  },
  {
   "cell_type": "code",
   "execution_count": 193,
   "id": "d9c2dcfc-f6af-4b67-9a87-6bc7a8fa976f",
   "metadata": {},
   "outputs": [
    {
     "data": {
      "text/plain": [
       "array([18, 13, 10, 13, 18, 13, 18, 14, 15, 16], dtype=int32)"
      ]
     },
     "execution_count": 193,
     "metadata": {},
     "output_type": "execute_result"
    }
   ],
   "source": [
    "y"
   ]
  },
  {
   "cell_type": "code",
   "execution_count": 202,
   "id": "3b4de25f-ea7d-435c-8132-417cc5af4f14",
   "metadata": {},
   "outputs": [],
   "source": [
    "choice = np.random.choice(x)  # Will take a random number from x"
   ]
  },
  {
   "cell_type": "code",
   "execution_count": 203,
   "id": "ed75880a-25fe-4983-ae6f-9531ed1b5932",
   "metadata": {},
   "outputs": [
    {
     "data": {
      "text/plain": [
       "np.int32(15)"
      ]
     },
     "execution_count": 203,
     "metadata": {},
     "output_type": "execute_result"
    }
   ],
   "source": [
    "choice"
   ]
  },
  {
   "cell_type": "code",
   "execution_count": 204,
   "id": "c1e3d64a-9b45-48dd-bacb-34200707de06",
   "metadata": {},
   "outputs": [],
   "source": [
    "# ONES and ZEROES"
   ]
  },
  {
   "cell_type": "code",
   "execution_count": 210,
   "id": "657164ec-3650-4cbd-b1e3-bf0f96fb1021",
   "metadata": {},
   "outputs": [
    {
     "data": {
      "text/plain": [
       "array([[0., 0., 0., 0., 0., 0.],\n",
       "       [0., 0., 0., 0., 0., 0.],\n",
       "       [0., 0., 0., 0., 0., 0.],\n",
       "       [0., 0., 0., 0., 0., 0.],\n",
       "       [0., 0., 0., 0., 0., 0.]])"
      ]
     },
     "execution_count": 210,
     "metadata": {},
     "output_type": "execute_result"
    }
   ],
   "source": [
    "zeroArray = np.zeros((5,6))\n",
    "zeroArray"
   ]
  },
  {
   "cell_type": "code",
   "execution_count": 211,
   "id": "535e68c7-cbad-482c-b7c8-0b6e0a994525",
   "metadata": {},
   "outputs": [
    {
     "data": {
      "text/plain": [
       "array([[1., 1., 1., 1., 1., 1.],\n",
       "       [1., 1., 1., 1., 1., 1.],\n",
       "       [1., 1., 1., 1., 1., 1.],\n",
       "       [1., 1., 1., 1., 1., 1.],\n",
       "       [1., 1., 1., 1., 1., 1.]])"
      ]
     },
     "execution_count": 211,
     "metadata": {},
     "output_type": "execute_result"
    }
   ],
   "source": [
    "oneArray = np.ones((5,6))\n",
    "oneArray"
   ]
  },
  {
   "cell_type": "code",
   "execution_count": 227,
   "id": "97e93a6b-e797-423b-ac6e-1c7f77118154",
   "metadata": {},
   "outputs": [],
   "source": [
    "# MIN, MAX, MEAN, AVERAGE"
   ]
  },
  {
   "cell_type": "code",
   "execution_count": 218,
   "id": "817e5152-da04-4d28-9171-21339d28103e",
   "metadata": {},
   "outputs": [],
   "source": [
    "a = np.array([[1,2,3,4,5],[6,7,8,9,0]])"
   ]
  },
  {
   "cell_type": "code",
   "execution_count": 219,
   "id": "2c313d32-6e6a-43f3-9979-242018343427",
   "metadata": {},
   "outputs": [
    {
     "data": {
      "text/plain": [
       "array([[1, 2, 3, 4, 5],\n",
       "       [6, 7, 8, 9, 0]])"
      ]
     },
     "execution_count": 219,
     "metadata": {},
     "output_type": "execute_result"
    }
   ],
   "source": [
    "a"
   ]
  },
  {
   "cell_type": "code",
   "execution_count": 220,
   "id": "8816ed79-6694-480b-99c5-75c72bb1e6e9",
   "metadata": {},
   "outputs": [],
   "source": [
    "a= a.flatten()"
   ]
  },
  {
   "cell_type": "code",
   "execution_count": 221,
   "id": "390ca3b9-fd19-4208-a951-81b950dc6bdd",
   "metadata": {},
   "outputs": [
    {
     "data": {
      "text/plain": [
       "array([1, 2, 3, 4, 5, 6, 7, 8, 9, 0])"
      ]
     },
     "execution_count": 221,
     "metadata": {},
     "output_type": "execute_result"
    }
   ],
   "source": [
    "a"
   ]
  },
  {
   "cell_type": "code",
   "execution_count": 231,
   "id": "c82a8d58-3cd5-4457-b9f3-a755bd2ea5f1",
   "metadata": {},
   "outputs": [
    {
     "name": "stdout",
     "output_type": "stream",
     "text": [
      "0\n"
     ]
    }
   ],
   "source": [
    "# Min\n",
    "print(np.min(a))"
   ]
  },
  {
   "cell_type": "code",
   "execution_count": 232,
   "id": "a08da344-43da-4885-a427-42b9c223b065",
   "metadata": {},
   "outputs": [
    {
     "name": "stdout",
     "output_type": "stream",
     "text": [
      "9\n"
     ]
    }
   ],
   "source": [
    "# Max\n",
    "print(np.max(a))"
   ]
  },
  {
   "cell_type": "code",
   "execution_count": 233,
   "id": "3a4980e9-80ef-4439-844c-8f01c82465f0",
   "metadata": {},
   "outputs": [
    {
     "name": "stdout",
     "output_type": "stream",
     "text": [
      "4.5\n"
     ]
    }
   ],
   "source": [
    "# Average\n",
    "print(np.average(a))"
   ]
  },
  {
   "cell_type": "code",
   "execution_count": 234,
   "id": "cd457a7b-380c-4fca-bc21-35fcf68490a1",
   "metadata": {},
   "outputs": [
    {
     "name": "stdout",
     "output_type": "stream",
     "text": [
      "4.5\n"
     ]
    }
   ],
   "source": [
    "# Mean\n",
    "print(np.mean(a))"
   ]
  },
  {
   "cell_type": "code",
   "execution_count": 235,
   "id": "756de1c6-93d8-4a42-b073-a2ece7debe6f",
   "metadata": {},
   "outputs": [
    {
     "name": "stdout",
     "output_type": "stream",
     "text": [
      "2.8722813232690143\n"
     ]
    }
   ],
   "source": [
    "# Standard Deviation\n",
    "print(np.std(a))"
   ]
  },
  {
   "cell_type": "code",
   "execution_count": 236,
   "id": "1de75c16-02e0-40dc-b178-0f11e151b74e",
   "metadata": {},
   "outputs": [],
   "source": [
    "# STD-> Mean is how far away from number whose mean is taken, Sum of all those values"
   ]
  },
  {
   "cell_type": "code",
   "execution_count": 238,
   "id": "13b03960-8232-43fc-b5a6-ef8d29c6573b",
   "metadata": {},
   "outputs": [
    {
     "name": "stdout",
     "output_type": "stream",
     "text": [
      "[[1 2 3 4 5 6 7 8 9 0]]\n"
     ]
    }
   ],
   "source": [
    "# Expanding Dimension\n",
    "print(np.expand_dims(a, axis = 0))\n",
    "# An extra dimension will be added"
   ]
  },
  {
   "cell_type": "code",
   "execution_count": 239,
   "id": "3feb729e-3f34-4a51-ac92-1bab85fc5c47",
   "metadata": {},
   "outputs": [
    {
     "name": "stdout",
     "output_type": "stream",
     "text": [
      "[[1]\n",
      " [2]\n",
      " [3]\n",
      " [4]\n",
      " [5]\n",
      " [6]\n",
      " [7]\n",
      " [8]\n",
      " [9]\n",
      " [0]]\n"
     ]
    }
   ],
   "source": [
    "print(np.expand_dims(a, axis = 1))"
   ]
  }
 ],
 "metadata": {
  "kernelspec": {
   "display_name": "Python 3 (ipykernel)",
   "language": "python",
   "name": "python3"
  },
  "language_info": {
   "codemirror_mode": {
    "name": "ipython",
    "version": 3
   },
   "file_extension": ".py",
   "mimetype": "text/x-python",
   "name": "python",
   "nbconvert_exporter": "python",
   "pygments_lexer": "ipython3",
   "version": "3.12.4"
  }
 },
 "nbformat": 4,
 "nbformat_minor": 5
}
